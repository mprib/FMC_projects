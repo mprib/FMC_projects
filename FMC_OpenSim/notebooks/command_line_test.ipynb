{
 "cells": [
  {
   "cell_type": "code",
   "execution_count": 4,
   "metadata": {},
   "outputs": [
    {
     "name": "stdout",
     "output_type": "stream",
     "text": [
      "Blender 3.2.2 (hash bcfdb14560e7 built 2022-08-02 23:41:46)\n",
      "Read prefs: C:\\Users\\Mac Prible\\AppData\\Roaming\\Blender Foundation\\Blender\\3.2\\config\\userpref.blend\n",
      "Reloading external rigs...\n",
      "Reloading external metarigs...\n",
      " - Starting blender megascript - \n",
      "Reloading external rigs...\n",
      "Reloading external metarigs...\n",
      "we appear to be running from the Blender Scripting tab! Manually enter your `session_path` at line 23\n",
      "C:\\Users\\jonma\\Dropbox\\FreeMoCapProject\\FreeMocap_Data\\sesh_2022-05-07_17_15_05_pupil_wobble_juggle_0\n",
      "loading data\n",
      "Error: Python: Traceback (most recent call last):\n",
      "  File \"<string>\", line 1, in <module>\n",
      "  File \"C:/Users/Mac Prible/anaconda3/envs/freemocap-env/Lib/site-packages/freemocap/freemocap_blender_megascript.py\", line 45, in <module>\n",
      "    mediapipe_skel_fr_mar_dim = np.load(path_to_mediapipe_npy)\n",
      "  File \"C:\\Program Files\\Blender Foundation\\Blender 3.2\\3.2\\python\\lib\\site-packages\\numpy\\lib\\npyio.py\", line 407, in load\n",
      "    fid = stack.enter_context(open(os_fspath(file), \"rb\"))\n",
      "FileNotFoundError: [Errno 2] No such file or directory: 'C:\\\\Users\\\\jonma\\\\Dropbox\\\\FreeMoCapProject\\\\FreeMocap_Data\\\\sesh_2022-05-07_17_15_05_pupil_wobble_juggle_0\\\\DataArrays\\\\mediaPipeSkel_3d_smoothed.npy'\n",
      "\n",
      "Blender quit\n",
      "\n"
     ]
    }
   ],
   "source": [
    "import subprocess\n",
    "exe_file = \"C:/Program Files/Blender Foundation/Blender 3.2/blender.exe\"\n",
    "py_file = \"C:/Users/Mac Prible/anaconda3/envs/freemocap-env/Lib/site-packages/freemocap/freemocap_blender_megascript.py\"\n",
    "\n",
    "blend_output = subprocess.run([exe_file, '--background', '--python', py_file], shell=True, stdout=subprocess.PIPE, text=True)\n",
    "\n",
    "print(blend_output.stdout)"
   ]
  },
  {
   "cell_type": "markdown",
   "metadata": {},
   "source": [
    "OK. I think this would work but there is some buggy code from Jon Matthis that is breaking references. REMEMBER: **Never hard code references!**"
   ]
  },
  {
   "cell_type": "markdown",
   "metadata": {},
   "source": [
    "Attempting to do the above, but I have things encapsulated in a powershell script"
   ]
  },
  {
   "cell_type": "code",
   "execution_count": 1,
   "metadata": {},
   "outputs": [
    {
     "ename": "UnsupportedOperation",
     "evalue": "fileno",
     "output_type": "error",
     "traceback": [
      "\u001b[1;31m---------------------------------------------------------------------------\u001b[0m",
      "\u001b[1;31mUnsupportedOperation\u001b[0m                      Traceback (most recent call last)",
      "\u001b[1;32mc:\\Users\\Mac Prible\\Box\\Research\\FMC_projects\\FMC_to_trc\\test_first_notebook.ipynb Cell 4\u001b[0m in \u001b[0;36m<cell line: 5>\u001b[1;34m()\u001b[0m\n\u001b[0;32m      <a href='vscode-notebook-cell:/c%3A/Users/Mac%20Prible/Box/Research/FMC_projects/FMC_to_trc/test_first_notebook.ipynb#W2sZmlsZQ%3D%3D?line=0'>1</a>\u001b[0m \u001b[39mimport\u001b[39;00m \u001b[39msubprocess\u001b[39;00m\u001b[39m,\u001b[39m\u001b[39msys\u001b[39;00m\n\u001b[0;32m      <a href='vscode-notebook-cell:/c%3A/Users/Mac%20Prible/Box/Research/FMC_projects/FMC_to_trc/test_first_notebook.ipynb#W2sZmlsZQ%3D%3D?line=2'>3</a>\u001b[0m ps1_file \u001b[39m=\u001b[39m \u001b[39m\"\u001b[39m\u001b[39m.\u001b[39m\u001b[39m\\\u001b[39m\u001b[39mFMC_to_trc\u001b[39m\u001b[39m\\\u001b[39m\u001b[39mcreate_blend.ps1\u001b[39m\u001b[39m\"\u001b[39m\n\u001b[1;32m----> <a href='vscode-notebook-cell:/c%3A/Users/Mac%20Prible/Box/Research/FMC_projects/FMC_to_trc/test_first_notebook.ipynb#W2sZmlsZQ%3D%3D?line=4'>5</a>\u001b[0m blend_output \u001b[39m=\u001b[39m subprocess\u001b[39m.\u001b[39;49mPopen([\u001b[39m\"\u001b[39;49m\u001b[39mpowershell.exe\u001b[39;49m\u001b[39m\"\u001b[39;49m, ps1_file], stdout\u001b[39m=\u001b[39;49msys\u001b[39m.\u001b[39;49mstdout)\n",
      "File \u001b[1;32mc:\\Users\\Mac Prible\\anaconda3\\conda-bld\\opensim_1659914343272\\_build_env\\lib\\subprocess.py:829\u001b[0m, in \u001b[0;36mPopen.__init__\u001b[1;34m(self, args, bufsize, executable, stdin, stdout, stderr, preexec_fn, close_fds, shell, cwd, env, universal_newlines, startupinfo, creationflags, restore_signals, start_new_session, pass_fds, user, group, extra_groups, encoding, errors, text, umask)\u001b[0m\n\u001b[0;32m    808\u001b[0m     \u001b[39mraise\u001b[39;00m SubprocessError(\u001b[39m'\u001b[39m\u001b[39mCannot disambiguate when both text \u001b[39m\u001b[39m'\u001b[39m\n\u001b[0;32m    809\u001b[0m                           \u001b[39m'\u001b[39m\u001b[39mand universal_newlines are supplied but \u001b[39m\u001b[39m'\u001b[39m\n\u001b[0;32m    810\u001b[0m                           \u001b[39m'\u001b[39m\u001b[39mdifferent. Pass one or the other.\u001b[39m\u001b[39m'\u001b[39m)\n\u001b[0;32m    812\u001b[0m \u001b[39m# Input and output objects. The general principle is like\u001b[39;00m\n\u001b[0;32m    813\u001b[0m \u001b[39m# this:\u001b[39;00m\n\u001b[0;32m    814\u001b[0m \u001b[39m#\u001b[39;00m\n\u001b[1;32m   (...)\u001b[0m\n\u001b[0;32m    824\u001b[0m \u001b[39m# are -1 when not using PIPEs. The child objects are -1\u001b[39;00m\n\u001b[0;32m    825\u001b[0m \u001b[39m# when not redirecting.\u001b[39;00m\n\u001b[0;32m    827\u001b[0m (p2cread, p2cwrite,\n\u001b[0;32m    828\u001b[0m  c2pread, c2pwrite,\n\u001b[1;32m--> 829\u001b[0m  errread, errwrite) \u001b[39m=\u001b[39m \u001b[39mself\u001b[39;49m\u001b[39m.\u001b[39;49m_get_handles(stdin, stdout, stderr)\n\u001b[0;32m    831\u001b[0m \u001b[39m# We wrap OS handles *before* launching the child, otherwise a\u001b[39;00m\n\u001b[0;32m    832\u001b[0m \u001b[39m# quickly terminating child could make our fds unwrappable\u001b[39;00m\n\u001b[0;32m    833\u001b[0m \u001b[39m# (see #8458).\u001b[39;00m\n\u001b[0;32m    835\u001b[0m \u001b[39mif\u001b[39;00m _mswindows:\n",
      "File \u001b[1;32mc:\\Users\\Mac Prible\\anaconda3\\conda-bld\\opensim_1659914343272\\_build_env\\lib\\subprocess.py:1284\u001b[0m, in \u001b[0;36mPopen._get_handles\u001b[1;34m(self, stdin, stdout, stderr)\u001b[0m\n\u001b[0;32m   1281\u001b[0m     c2pwrite \u001b[39m=\u001b[39m msvcrt\u001b[39m.\u001b[39mget_osfhandle(stdout)\n\u001b[0;32m   1282\u001b[0m \u001b[39melse\u001b[39;00m:\n\u001b[0;32m   1283\u001b[0m     \u001b[39m# Assuming file-like object\u001b[39;00m\n\u001b[1;32m-> 1284\u001b[0m     c2pwrite \u001b[39m=\u001b[39m msvcrt\u001b[39m.\u001b[39mget_osfhandle(stdout\u001b[39m.\u001b[39;49mfileno())\n\u001b[0;32m   1285\u001b[0m c2pwrite \u001b[39m=\u001b[39m \u001b[39mself\u001b[39m\u001b[39m.\u001b[39m_make_inheritable(c2pwrite)\n\u001b[0;32m   1287\u001b[0m \u001b[39mif\u001b[39;00m stderr \u001b[39mis\u001b[39;00m \u001b[39mNone\u001b[39;00m:\n",
      "File \u001b[1;32mc:\\Users\\Mac Prible\\anaconda3\\conda-bld\\opensim_1659914343272\\_build_env\\lib\\site-packages\\ipykernel\\iostream.py:310\u001b[0m, in \u001b[0;36mOutStream.fileno\u001b[1;34m(self)\u001b[0m\n\u001b[0;32m    308\u001b[0m     \u001b[39mreturn\u001b[39;00m \u001b[39mself\u001b[39m\u001b[39m.\u001b[39m_original_stdstream_copy\n\u001b[0;32m    309\u001b[0m \u001b[39melse\u001b[39;00m:\n\u001b[1;32m--> 310\u001b[0m     \u001b[39mraise\u001b[39;00m io\u001b[39m.\u001b[39mUnsupportedOperation(\u001b[39m\"\u001b[39m\u001b[39mfileno\u001b[39m\u001b[39m\"\u001b[39m)\n",
      "\u001b[1;31mUnsupportedOperation\u001b[0m: fileno"
     ]
    }
   ],
   "source": [
    "import subprocess,sys\n",
    "\n",
    "ps1_file = \".\\FMC_to_trc\\create_blend.ps1\"\n",
    "\n",
    "blend_output = subprocess.Popen([\"powershell.exe\", ps1_file], stdout=sys.stdout)"
   ]
  },
  {
   "cell_type": "code",
   "execution_count": 1,
   "metadata": {},
   "outputs": [
    {
     "name": "stdout",
     "output_type": "stream",
     "text": [
      "this is the name of a program c:\\Users\\Mac Prible\\anaconda3\\envs\\freemocap-env\\lib\\site-packages\\ipykernel_launcher.py\n",
      "['c:\\\\Users\\\\Mac Prible\\\\anaconda3\\\\envs\\\\freemocap-env\\\\lib\\\\site-packages\\\\ipykernel_launcher.py', '--ip=127.0.0.1', '--stdin=9035', '--control=9033', '--hb=9032', '--Session.signature_scheme=\"hmac-sha256\"', '--Session.key=b\"2ceda696-8421-4c8a-b3e2-ea0c7a3e3dd7\"', '--shell=9034', '--transport=\"tcp\"', '--iopub=9036', '--f=\"c:\\\\Users\\\\Mac Prible\\\\AppData\\\\Roaming\\\\jupyter\\\\runtime\\\\kernel-v2-19708jJadBEMsc6Fv.json\"']\n"
     ]
    }
   ],
   "source": [
    "import sys\n",
    "\n",
    "print(\"this is the name of a program\", sys.argv[0])\n",
    "\n",
    "print(sys.argv)"
   ]
  }
 ],
 "metadata": {
  "kernelspec": {
   "display_name": "Python 3.7.13 ('freemocap-env')",
   "language": "python",
   "name": "python3"
  },
  "language_info": {
   "codemirror_mode": {
    "name": "ipython",
    "version": 3
   },
   "file_extension": ".py",
   "mimetype": "text/x-python",
   "name": "python",
   "nbconvert_exporter": "python",
   "pygments_lexer": "ipython3",
   "version": "3.7.13"
  },
  "orig_nbformat": 4,
  "vscode": {
   "interpreter": {
    "hash": "4531e8cd88a041cf1babbfc4f49357f2d8ac2e89d2110f4f4b0648e50ea29db1"
   }
  }
 },
 "nbformat": 4,
 "nbformat_minor": 2
}
