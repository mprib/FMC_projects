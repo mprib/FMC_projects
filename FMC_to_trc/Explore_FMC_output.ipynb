{
 "cells": [
  {
   "cell_type": "markdown",
   "metadata": {},
   "source": [
    "# FMC Output to Pandas CSV\n",
    "\n",
    "The intention of this notebook is to better understand the numpy data structure and how to integrate it into a human readable csv via pandas. The pandas df can then be converted to a .trc format relatively easily\n",
    "\n",
    "*Numpy data file structure*: https://github.com/freemocap/freemocap/wiki\n",
    "\n",
    "*Discord link where Jon Matthis brings this up*: https://discord.com/channels/760487252379041812/760489542888194138/978974531207172127\n",
    "\n"
   ]
  },
  {
   "cell_type": "code",
   "execution_count": 1,
   "metadata": {},
   "outputs": [],
   "source": [
    "\n",
    "# This code copied from https://github.com/freemocap/freemocap/wiki\n",
    "\n",
    "\n",
    "import numpy as np\n",
    "from pathlib import Path \n",
    "import matplotlib.pyplot as plt\n",
    "\n",
    "sessionPath = Path(\"C:/Users/Mac Prible/FreeMocap_Data/sesh_2022-08-10_10_33_12\") #replace this with path to the unzipped session data folder, e.g. Path(r'C:/Users/Me/session_data_folder')\n",
    "dataArrayPath = sessionPath / 'DataArrays'\n",
    "skeletonPath = dataArrayPath / 'mediaPipeSkel_3d.npy'\n",
    "\n",
    "print(skeletonPath)\n",
    "\n",
    "skel_fr_mar_dim = np.load(skeletonPath) #load 3d open pose data\n",
    "\n",
    "#openPoseData_nCams_nFrames_nImgPts_XYC = np.load(dataArrayPath / 'openPoseData_2d.npy') #2d data too, if you're into that\n",
    "\n",
    "\n"
   ]
  },
  {
   "cell_type": "markdown",
   "metadata": {},
   "source": [
    "Fun little side project that is kinda relevant here. I'm going to create something that will build a list of all possible combinations of axis-dim# pairs. This will be used to iterate across possibilities in order to identify the one that  best displays the data"
   ]
  },
  {
   "cell_type": "code",
   "execution_count": 16,
   "metadata": {},
   "outputs": [],
   "source": [
    "\n",
    "# Build list of lists that can be used to iterate\n",
    "def PlotFrame(frameNum, Axes= [0,2,1] , FlipAxis=[1,1,-1]):\n",
    "\n",
    "    # These are the order of the axes as stored in the \n",
    "    \n",
    "    x_axis = Axes[0]\n",
    "    y_axis = Axes[1]\n",
    "    z_axis = Axes[2]\n",
    "\n",
    "    # if this is negative, then it will flip the axis\n",
    "    \n",
    "    flip_x = FlipAxis[0]\n",
    "    flip_y = FlipAxis[1]\n",
    "    flip_z = FlipAxis[2]\n",
    "\n",
    "    sk_x = skel_fr_mar_dim[frameNum, :, x_axis] * flip_x  # skeleton x data\n",
    "    sk_y = skel_fr_mar_dim[frameNum, :, y_axis] * flip_y  # skeleton y data\n",
    "    sk_z = skel_fr_mar_dim[frameNum, :, z_axis] * flip_z  # skeleton z data\n",
    "\n",
    "    fig = plt.figure()\n",
    "    ax = plt.axes(projection = '3d')\n",
    "    ax.scatter3D(sk_x, sk_y, sk_z, marker=\".\", color=\"k\", s=4.0)\n",
    "\n",
    "\n",
    "    mx = np.nanmean(sk_x)\n",
    "    my = np.nanmean(sk_y)\n",
    "    mz = np.nanmean(sk_z)\n",
    "\n",
    "    axRange = 500\n",
    "\n",
    "    ax.set_xlim(mx - axRange, mx + axRange)\n",
    "    ax.set_ylim(my - axRange, my + axRange)\n",
    "    ax.set_zlim(mz - axRange, mz + axRange)\n",
    "    plt.show()\n",
    "    #You did it!\n",
    "\n"
   ]
  },
  {
   "cell_type": "markdown",
   "metadata": {},
   "source": []
  },
  {
   "cell_type": "markdown",
   "metadata": {},
   "source": []
  },
  {
   "cell_type": "code",
   "execution_count": 14,
   "metadata": {},
   "outputs": [
    {
     "data": {
      "image/png": "[encoded data removed]",
      "text/plain": [
       "<Figure size 432x288 with 1 Axes>"
      ]
     },
     "metadata": {
      "needs_background": "light"
     },
     "output_type": "display_data"
    }
   ],
   "source": [
    "PlotFrame(100)\n"
   ]
  },
  {
   "cell_type": "markdown",
   "metadata": {},
   "source": []
  },
  {
   "cell_type": "code",
   "execution_count": 7,
   "metadata": {},
   "outputs": [
    {
     "name": "stdout",
     "output_type": "stream",
     "text": [
      "[[[          nan           nan           nan]\n",
      "  [          nan           nan           nan]\n",
      "  [          nan           nan           nan]\n",
      "  ...\n",
      "  [          nan           nan           nan]\n",
      "  [          nan           nan           nan]\n",
      "  [          nan           nan           nan]]\n",
      "\n",
      " [[ -28.53862038 -256.35444136 1358.64336946]\n",
      "  [          nan           nan           nan]\n",
      "  [ -16.93765892 -267.83267216 1349.7161614 ]\n",
      "  ...\n",
      "  [          nan           nan           nan]\n",
      "  [          nan           nan           nan]\n",
      "  [          nan           nan           nan]]\n",
      "\n",
      " [[  -4.18043986 -253.84137281 1352.38448742]\n",
      "  [   4.03936118 -265.68236677 1347.25980158]\n",
      "  [   6.84336519 -265.09520292 1343.17839652]\n",
      "  ...\n",
      "  [  55.25241957 -276.56521159 1382.55272656]\n",
      "  [  68.55037443 -278.29630735 1373.28852124]\n",
      "  [  69.97645837 -279.40432143 1372.31249746]]\n",
      "\n",
      " ...\n",
      "\n",
      " [[          nan           nan           nan]\n",
      "  [          nan           nan           nan]\n",
      "  [          nan           nan           nan]\n",
      "  ...\n",
      "  [          nan           nan           nan]\n",
      "  [          nan           nan           nan]\n",
      "  [          nan           nan           nan]]\n",
      "\n",
      " [[          nan           nan           nan]\n",
      "  [          nan           nan           nan]\n",
      "  [          nan           nan           nan]\n",
      "  ...\n",
      "  [          nan           nan           nan]\n",
      "  [          nan           nan           nan]\n",
      "  [          nan           nan           nan]]\n",
      "\n",
      " [[          nan           nan           nan]\n",
      "  [          nan           nan           nan]\n",
      "  [          nan           nan           nan]\n",
      "  ...\n",
      "  [          nan           nan           nan]\n",
      "  [          nan           nan           nan]\n",
      "  [          nan           nan           nan]]]\n"
     ]
    }
   ],
   "source": []
  },
  {
   "cell_type": "markdown",
   "metadata": {},
   "source": []
  },
  {
   "cell_type": "markdown",
   "metadata": {},
   "source": []
  }
 ],
 "metadata": {
  "kernelspec": {
   "display_name": "Python 3.7.13 ('freemocap-env')",
   "language": "python",
   "name": "python3"
  },
  "language_info": {
   "codemirror_mode": {
    "name": "ipython",
    "version": 3
   },
   "file_extension": ".py",
   "mimetype": "text/x-python",
   "name": "python",
   "nbconvert_exporter": "python",
   "pygments_lexer": "ipython3",
   "version": "3.7.13"
  },
  "orig_nbformat": 4,
  "vscode": {
   "interpreter": {
    "hash": "4531e8cd88a041cf1babbfc4f49357f2d8ac2e89d2110f4f4b0648e50ea29db1"
   }
  }
 },
 "nbformat": 4,
 "nbformat_minor": 2
}
