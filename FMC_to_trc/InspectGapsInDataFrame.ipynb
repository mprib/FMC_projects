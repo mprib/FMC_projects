{
 "cells": [
  {
   "cell_type": "markdown",
   "metadata": {},
   "source": [
    "# Purpose\n",
    "\n",
    "Trying to find the length of gaps in the trajectory dataframe in order to understand how long they typically are. This was a question from Jimmy Buffy on Discord, and he is the guy who I'm thinking of asking to hire me."
   ]
  },
  {
   "cell_type": "code",
   "execution_count": null,
   "metadata": {},
   "outputs": [],
   "source": [
    "import fmc2trc\n",
    "\n",
    "GoodSession = \"sesh_2022-08-10_10_33_12\"\n",
    "\n",
    "session_trajectories = fmc2trc.get_trajectory_df(GoodSession)"
   ]
  },
  {
   "cell_type": "markdown",
   "metadata": {},
   "source": [
    "# Automate OpenSim Model\n",
    "\n",
    "You will also want to streamline the .trc file creation by having the .osim model as a reference. Pull in a list of the markers used in the model and only populate those markers in the .trc file. This should save you some hassle from having to patch trajectories that do not get used in the pipeline."
   ]
  },
  {
   "cell_type": "markdown",
   "metadata": {},
   "source": []
  }
 ],
 "metadata": {
  "kernelspec": {
   "display_name": "Python 3.7.13 ('freemocap-env')",
   "language": "python",
   "name": "python3"
  },
  "language_info": {
   "codemirror_mode": {
    "name": "ipython",
    "version": 3
   },
   "file_extension": ".py",
   "mimetype": "text/x-python",
   "name": "python",
   "nbconvert_exporter": "python",
   "pygments_lexer": "ipython3",
   "version": "3.7.13"
  },
  "orig_nbformat": 4,
  "vscode": {
   "interpreter": {
    "hash": "4531e8cd88a041cf1babbfc4f49357f2d8ac2e89d2110f4f4b0648e50ea29db1"
   }
  }
 },
 "nbformat": 4,
 "nbformat_minor": 2
}
